{
 "cells": [
  {
   "cell_type": "code",
   "execution_count": 3,
   "metadata": {},
   "outputs": [
    {
     "name": "stdout",
     "output_type": "stream",
     "text": [
      "Tensorflow version: 2.6.0\n",
      "is_built_with_cuda: True\n",
      "is_built_with_gpu_support: True\n",
      "gpu_device_name: /device:GPU:0\n",
      "list_physical_devices: [PhysicalDevice(name='/physical_device:GPU:0', device_type='GPU')]\n"
     ]
    }
   ],
   "source": [
    "import tensorflow as tf\n",
    "\n",
    "print('Tensorflow version:', tf.__version__)\n",
    "\n",
    "print('is_built_with_cuda:', tf.test.is_built_with_cuda())\n",
    "print('is_built_with_gpu_support:', tf.test.is_built_with_gpu_support())\n",
    "\n",
    "print('gpu_device_name:', tf.test.gpu_device_name())\n",
    "print('list_physical_devices:', tf.config.list_physical_devices(\"GPU\"))\n"
   ]
  }
 ],
 "metadata": {
  "interpreter": {
   "hash": "31f2aee4e71d21fbe5cf8b01ff0e069b9275f58929596ceb00d14d90e3e16cd6"
  },
  "kernelspec": {
   "display_name": "Python 3.6.9 64-bit",
   "name": "python3"
  },
  "language_info": {
   "codemirror_mode": {
    "name": "ipython",
    "version": 3
   },
   "file_extension": ".py",
   "mimetype": "text/x-python",
   "name": "python",
   "nbconvert_exporter": "python",
   "pygments_lexer": "ipython3",
   "version": "3.6.9"
  },
  "orig_nbformat": 4
 },
 "nbformat": 4,
 "nbformat_minor": 2
}
